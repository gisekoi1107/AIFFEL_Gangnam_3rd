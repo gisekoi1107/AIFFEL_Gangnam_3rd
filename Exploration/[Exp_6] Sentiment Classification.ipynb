{
 "cells": [
  {
   "cell_type": "markdown",
   "id": "d7849a76",
   "metadata": {},
   "source": [
    "# Preparing and Checking Data"
   ]
  },
  {
   "cell_type": "code",
   "execution_count": 1,
   "id": "0171eb5d",
   "metadata": {},
   "outputs": [
    {
     "data": {
      "text/html": [
       "<div>\n",
       "<style scoped>\n",
       "    .dataframe tbody tr th:only-of-type {\n",
       "        vertical-align: middle;\n",
       "    }\n",
       "\n",
       "    .dataframe tbody tr th {\n",
       "        vertical-align: top;\n",
       "    }\n",
       "\n",
       "    .dataframe thead th {\n",
       "        text-align: right;\n",
       "    }\n",
       "</style>\n",
       "<table border=\"1\" class=\"dataframe\">\n",
       "  <thead>\n",
       "    <tr style=\"text-align: right;\">\n",
       "      <th></th>\n",
       "      <th>id</th>\n",
       "      <th>document</th>\n",
       "      <th>label</th>\n",
       "    </tr>\n",
       "  </thead>\n",
       "  <tbody>\n",
       "    <tr>\n",
       "      <th>0</th>\n",
       "      <td>9976970</td>\n",
       "      <td>아 더빙.. 진짜 짜증나네요 목소리</td>\n",
       "      <td>0</td>\n",
       "    </tr>\n",
       "    <tr>\n",
       "      <th>1</th>\n",
       "      <td>3819312</td>\n",
       "      <td>흠...포스터보고 초딩영화줄....오버연기조차 가볍지 않구나</td>\n",
       "      <td>1</td>\n",
       "    </tr>\n",
       "    <tr>\n",
       "      <th>2</th>\n",
       "      <td>10265843</td>\n",
       "      <td>너무재밓었다그래서보는것을추천한다</td>\n",
       "      <td>0</td>\n",
       "    </tr>\n",
       "    <tr>\n",
       "      <th>3</th>\n",
       "      <td>9045019</td>\n",
       "      <td>교도소 이야기구먼 ..솔직히 재미는 없다..평점 조정</td>\n",
       "      <td>0</td>\n",
       "    </tr>\n",
       "    <tr>\n",
       "      <th>4</th>\n",
       "      <td>6483659</td>\n",
       "      <td>사이몬페그의 익살스런 연기가 돋보였던 영화!스파이더맨에서 늙어보이기만 했던 커스틴 ...</td>\n",
       "      <td>1</td>\n",
       "    </tr>\n",
       "  </tbody>\n",
       "</table>\n",
       "</div>"
      ],
      "text/plain": [
       "         id                                           document  label\n",
       "0   9976970                                아 더빙.. 진짜 짜증나네요 목소리      0\n",
       "1   3819312                  흠...포스터보고 초딩영화줄....오버연기조차 가볍지 않구나      1\n",
       "2  10265843                                  너무재밓었다그래서보는것을추천한다      0\n",
       "3   9045019                      교도소 이야기구먼 ..솔직히 재미는 없다..평점 조정      0\n",
       "4   6483659  사이몬페그의 익살스런 연기가 돋보였던 영화!스파이더맨에서 늙어보이기만 했던 커스틴 ...      1"
      ]
     },
     "execution_count": 1,
     "metadata": {},
     "output_type": "execute_result"
    }
   ],
   "source": [
    "import pandas as pd\n",
    "import urllib.request\n",
    "%matplotlib inline\n",
    "import matplotlib.pyplot as plt\n",
    "import re\n",
    "from konlpy.tag import Okt\n",
    "from tensorflow import keras\n",
    "from tensorflow.keras.preprocessing.text import Tokenizer\n",
    "import numpy as np\n",
    "from tensorflow.keras.preprocessing.sequence import pad_sequences\n",
    "from collections import Counter\n",
    "import os\n",
    "\n",
    "# 데이터를 읽어봅시다. \n",
    "train_data = pd.read_table('~/aiffel/sentiment_classification/data/ratings_train.txt')\n",
    "test_data = pd.read_table('~/aiffel/sentiment_classification/data/ratings_test.txt')\n",
    "\n",
    "train_data.head()"
   ]
  },
  {
   "cell_type": "markdown",
   "id": "131abe6d",
   "metadata": {},
   "source": [
    "# Composition of Dataloader"
   ]
  },
  {
   "cell_type": "code",
   "execution_count": 2,
   "id": "30543909",
   "metadata": {},
   "outputs": [],
   "source": [
    "from konlpy.tag import Mecab\n",
    "tokenizer = Mecab()\n",
    "stopwords = ['의','가','이','은','들','는','좀','잘','걍','과','도','를','으로','자','에','와','한','하다']\n",
    "\n",
    "def load_data(train_data, test_data, num_words=10000):\n",
    "    train_data.drop_duplicates(subset=['document'], inplace=True)\n",
    "    train_data = train_data.dropna(how = 'any') \n",
    "    test_data.drop_duplicates(subset=['document'], inplace=True)\n",
    "    test_data = test_data.dropna(how = 'any')\n",
    "    \n",
    "    X_train = []\n",
    "    for sentence in train_data['document']:\n",
    "        temp_X = tokenizer.morphs(sentence) # 토큰화\n",
    "        temp_X = [word for word in temp_X if not word in stopwords] # 불용어 제거\n",
    "        X_train.append(temp_X)\n",
    "\n",
    "    X_test = []\n",
    "    for sentence in test_data['document']:\n",
    "        temp_X = tokenizer.morphs(sentence) # 토큰화\n",
    "        temp_X = [word for word in temp_X if not word in stopwords] # 불용어 제거\n",
    "        X_test.append(temp_X)\n",
    "\n",
    "    words = np.concatenate(X_train).tolist()\n",
    "    counter = Counter(words)\n",
    "    counter = counter.most_common(10000-4)\n",
    "    vocab = ['<PAD>', '<BOS>', '<UNK>', '<UNUSED>'] + [key for key, _ in counter]\n",
    "    word_to_index = {word:index for index, word in enumerate(vocab)}\n",
    "\n",
    "    def wordlist_to_indexlist(wordlist):\n",
    "        return [word_to_index[word] if word in word_to_index else word_to_index['<UNK>'] for word in wordlist]\n",
    "\n",
    "    X_train = list(map(wordlist_to_indexlist, X_train))\n",
    "    X_test = list(map(wordlist_to_indexlist, X_test))\n",
    "\n",
    "    return X_train, np.array(list(train_data['label'])), X_test, np.array(list(test_data['label'])), word_to_index\n",
    "    \n",
    "X_train, y_train, X_test, y_test, word_to_index = load_data(train_data, test_data) "
   ]
  },
  {
   "cell_type": "code",
   "execution_count": 3,
   "id": "6fb0ff8f",
   "metadata": {},
   "outputs": [],
   "source": [
    "index_to_word = {index:word for word, index in word_to_index.items()}"
   ]
  },
  {
   "cell_type": "code",
   "execution_count": 4,
   "id": "b8e03ea5",
   "metadata": {},
   "outputs": [],
   "source": [
    "# 문장 1개를 활용할 딕셔너리와 함께 주면, 단어 인덱스 리스트 벡터로 변환해 주는 함수입니다. \n",
    "# 단, 모든 문장은 <BOS>로 시작하는 것으로 합니다. \n",
    "def get_encoded_sentence(sentence, word_to_index):\n",
    "    return [word_to_index['<BOS>']]+[word_to_index[word] if word in word_to_index else word_to_index['<UNK>'] for word in sentence.split()]\n",
    "\n",
    "# 여러 개의 문장 리스트를 한꺼번에 단어 인덱스 리스트 벡터로 encode해 주는 함수입니다. \n",
    "def get_encoded_sentences(sentences, word_to_index):\n",
    "    return [get_encoded_sentence(sentence, word_to_index) for sentence in sentences]\n",
    "\n",
    "# 숫자 벡터로 encode된 문장을 원래대로 decode하는 함수입니다. \n",
    "def get_decoded_sentence(encoded_sentence, index_to_word):\n",
    "    return ' '.join(index_to_word[index] if index in index_to_word else '<UNK>' for index in encoded_sentence[1:])  #[1:]를 통해 <BOS>를 제외\n",
    "\n",
    "# 여러개의 숫자 벡터로 encode된 문장을 한꺼번에 원래대로 decode하는 함수입니다. \n",
    "def get_decoded_sentences(encoded_sentences, index_to_word):\n",
    "    return [get_decoded_sentence(encoded_sentence, index_to_word) for encoded_sentence in encoded_sentences]"
   ]
  },
  {
   "cell_type": "markdown",
   "id": "d56a1a42",
   "metadata": {},
   "source": [
    "# Processing Data"
   ]
  },
  {
   "cell_type": "code",
   "execution_count": 5,
   "id": "cd95c8dd",
   "metadata": {},
   "outputs": [
    {
     "name": "stdout",
     "output_type": "stream",
     "text": [
      "[32, 74, 919, 4, 4, 39, 228, 20, 33, 748]\n",
      "라벨:  0\n",
      "1번째 리뷰 문장 길이:  10\n",
      "2번째 리뷰 문장 길이:  17\n"
     ]
    }
   ],
   "source": [
    "print(X_train[0])  # 1번째 리뷰데이터\n",
    "print('라벨: ', y_train[0])  # 1번째 리뷰데이터의 라벨\n",
    "print('1번째 리뷰 문장 길이: ', len(X_train[0]))\n",
    "print('2번째 리뷰 문장 길이: ', len(X_train[1]))"
   ]
  },
  {
   "cell_type": "code",
   "execution_count": 6,
   "id": "8ee4fddb",
   "metadata": {},
   "outputs": [
    {
     "name": "stdout",
     "output_type": "stream",
     "text": [
      "문장길이 평균 :  15.96940191154864\n",
      "문장길이 최대 :  116\n",
      "문장길이 표준편차 :  12.843571191092\n"
     ]
    }
   ],
   "source": [
    "total_data_text = list(X_train) + list(X_test)\n",
    "# 텍스트데이터 문장길이의 리스트를 생성한 후\n",
    "num_tokens = [len(tokens) for tokens in total_data_text]\n",
    "num_tokens = np.array(num_tokens)\n",
    "# 문장길이의 평균값, 최대값, 표준편차를 계산해 본다. \n",
    "print('문장길이 평균 : ', np.mean(num_tokens))\n",
    "print('문장길이 최대 : ', np.max(num_tokens))\n",
    "print('문장길이 표준편차 : ', np.std(num_tokens))"
   ]
  },
  {
   "cell_type": "code",
   "execution_count": 7,
   "id": "e58f1b22",
   "metadata": {},
   "outputs": [
    {
     "name": "stdout",
     "output_type": "stream",
     "text": [
      "pad_sequences maxlen :  41\n",
      "전체 문장의 93.43%가 maxlen 설정값 이내에 포함됩니다. \n"
     ]
    }
   ],
   "source": [
    "# 예를들어, 최대 길이를 (평균 + 2*표준편차)로 한다면,  \n",
    "max_tokens = np.mean(num_tokens) + 2 * np.std(num_tokens)\n",
    "maxlen = int(max_tokens)\n",
    "print('pad_sequences maxlen : ', maxlen)\n",
    "print('전체 문장의 {}%가 maxlen 설정값 이내에 포함됩니다. '.format(round(np.sum(num_tokens < max_tokens) / len(num_tokens)*100, 2) ))"
   ]
  },
  {
   "cell_type": "markdown",
   "id": "83fcff32",
   "metadata": {},
   "source": [
    "# Adding Padding using keras.preprocessing.sequence.pad_sequences "
   ]
  },
  {
   "cell_type": "code",
   "execution_count": 8,
   "id": "53f201f2",
   "metadata": {},
   "outputs": [],
   "source": [
    "X_train = keras.preprocessing.sequence.pad_sequences(X_train,\n",
    "                                                        value=word_to_index[\"<PAD>\"],\n",
    "                                                        padding='pre', # 혹은 'pre'\n",
    "                                                        maxlen=maxlen)\n",
    "\n",
    "X_test = keras.preprocessing.sequence.pad_sequences(X_test,\n",
    "                                                       value=word_to_index[\"<PAD>\"],\n",
    "                                                       padding='pre', # 혹은 'pre'\n",
    "                                                       maxlen=maxlen)"
   ]
  },
  {
   "cell_type": "code",
   "execution_count": 9,
   "id": "98c514bd",
   "metadata": {},
   "outputs": [
    {
     "name": "stdout",
     "output_type": "stream",
     "text": [
      "문장길이 평균 :  41.0\n",
      "문장길이 최대 :  41\n",
      "문장길이 표준편차 :  0.0\n"
     ]
    }
   ],
   "source": [
    "# 문장길이의 평균값, 최대값, 표준편차를 다시 계산해본다.\n",
    "total_data_text = list(X_train) + list(X_test)\n",
    "# 텍스트데이터 문장길이의 리스트를 생성한 후\n",
    "num_tokens = [len(tokens) for tokens in total_data_text]\n",
    "num_tokens = np.array(num_tokens)\n",
    "print('문장길이 평균 : ', np.mean(num_tokens))\n",
    "print('문장길이 최대 : ', np.max(num_tokens))\n",
    "print('문장길이 표준편차 : ', np.std(num_tokens))"
   ]
  },
  {
   "cell_type": "markdown",
   "id": "1cdde8f1",
   "metadata": {},
   "source": [
    "# Composing Model and Validation Set"
   ]
  },
  {
   "cell_type": "markdown",
   "id": "a8edf5ce",
   "metadata": {},
   "source": [
    "## 1-D CNN Model"
   ]
  },
  {
   "cell_type": "code",
   "execution_count": 10,
   "id": "f06af30f",
   "metadata": {},
   "outputs": [
    {
     "name": "stdout",
     "output_type": "stream",
     "text": [
      "Model: \"sequential\"\n",
      "_________________________________________________________________\n",
      "Layer (type)                 Output Shape              Param #   \n",
      "=================================================================\n",
      "embedding (Embedding)        (None, None, 16)          160000    \n",
      "_________________________________________________________________\n",
      "conv1d (Conv1D)              (None, None, 16)          1808      \n",
      "_________________________________________________________________\n",
      "max_pooling1d (MaxPooling1D) (None, None, 16)          0         \n",
      "_________________________________________________________________\n",
      "conv1d_1 (Conv1D)            (None, None, 16)          1808      \n",
      "_________________________________________________________________\n",
      "global_max_pooling1d (Global (None, 16)                0         \n",
      "_________________________________________________________________\n",
      "dense (Dense)                (None, 8)                 136       \n",
      "_________________________________________________________________\n",
      "dense_1 (Dense)              (None, 1)                 9         \n",
      "=================================================================\n",
      "Total params: 163,761\n",
      "Trainable params: 163,761\n",
      "Non-trainable params: 0\n",
      "_________________________________________________________________\n"
     ]
    }
   ],
   "source": [
    "vocab_size = 10000    # 어휘 사전의 크기입니다(10,000개의 단어)\n",
    "word_vector_dim = 16  # 워드 벡터의 차원수 (변경가능한 하이퍼파라미터)\n",
    "\n",
    "Cnn_model = keras.Sequential()\n",
    "Cnn_model.add(keras.layers.Embedding(vocab_size, word_vector_dim, input_shape=(None,)))\n",
    "Cnn_model.add(keras.layers.Conv1D(16, 7, activation='relu'))\n",
    "Cnn_model.add(keras.layers.MaxPooling1D(5))\n",
    "Cnn_model.add(keras.layers.Conv1D(16, 7, activation='relu'))\n",
    "Cnn_model.add(keras.layers.GlobalMaxPooling1D())\n",
    "Cnn_model.add(keras.layers.Dense(8, activation='relu'))\n",
    "Cnn_model.add(keras.layers.Dense(1, activation='sigmoid'))  # 최종 출력은 긍정/부정을 나타내는 1dim 입니다.\n",
    "\n",
    "Cnn_model.summary()"
   ]
  },
  {
   "cell_type": "markdown",
   "id": "b04ad19f",
   "metadata": {},
   "source": [
    "##  Word2Vec Model"
   ]
  },
  {
   "cell_type": "code",
   "execution_count": 11,
   "id": "e96b8959",
   "metadata": {},
   "outputs": [
    {
     "data": {
      "text/plain": [
       "array([ 1.07421875e-01, -2.01171875e-01,  1.23046875e-01,  2.11914062e-01,\n",
       "       -9.13085938e-02,  2.16796875e-01, -1.31835938e-01,  8.30078125e-02,\n",
       "        2.02148438e-01,  4.78515625e-02,  3.66210938e-02, -2.45361328e-02,\n",
       "        2.39257812e-02, -1.60156250e-01, -2.61230469e-02,  9.71679688e-02,\n",
       "       -6.34765625e-02,  1.84570312e-01,  1.70898438e-01, -1.63085938e-01,\n",
       "       -1.09375000e-01,  1.49414062e-01, -4.65393066e-04,  9.61914062e-02,\n",
       "        1.68945312e-01,  2.60925293e-03,  8.93554688e-02,  6.49414062e-02,\n",
       "        3.56445312e-02, -6.93359375e-02, -1.46484375e-01, -1.21093750e-01,\n",
       "       -2.27539062e-01,  2.45361328e-02, -1.24511719e-01, -3.18359375e-01,\n",
       "       -2.20703125e-01,  1.30859375e-01,  3.66210938e-02, -3.63769531e-02,\n",
       "       -1.13281250e-01,  1.95312500e-01,  9.76562500e-02,  1.26953125e-01,\n",
       "        6.59179688e-02,  6.93359375e-02,  1.02539062e-02,  1.75781250e-01,\n",
       "       -1.68945312e-01,  1.21307373e-03, -2.98828125e-01, -1.15234375e-01,\n",
       "        5.66406250e-02, -1.77734375e-01, -2.08984375e-01,  1.76757812e-01,\n",
       "        2.38037109e-02, -2.57812500e-01, -4.46777344e-02,  1.88476562e-01,\n",
       "        5.51757812e-02,  5.02929688e-02, -1.06933594e-01,  1.89453125e-01,\n",
       "       -1.16210938e-01,  8.49609375e-02, -1.71875000e-01,  2.45117188e-01,\n",
       "       -1.73828125e-01, -8.30078125e-03,  4.56542969e-02, -1.61132812e-02,\n",
       "        1.86523438e-01, -6.05468750e-02, -4.17480469e-02,  1.82617188e-01,\n",
       "        2.20703125e-01, -1.22558594e-01, -2.55126953e-02, -3.08593750e-01,\n",
       "        9.13085938e-02,  1.60156250e-01,  1.70898438e-01,  1.19628906e-01,\n",
       "        7.08007812e-02, -2.64892578e-02, -3.08837891e-02,  4.06250000e-01,\n",
       "       -1.01562500e-01,  5.71289062e-02, -7.26318359e-03, -9.17968750e-02,\n",
       "       -1.50390625e-01, -2.55859375e-01,  2.16796875e-01, -3.63769531e-02,\n",
       "        2.24609375e-01,  8.00781250e-02,  1.56250000e-01,  5.27343750e-02,\n",
       "        1.50390625e-01, -1.14746094e-01, -8.64257812e-02,  1.19140625e-01,\n",
       "       -7.17773438e-02,  2.73437500e-01, -1.64062500e-01,  7.29370117e-03,\n",
       "        4.21875000e-01, -1.12792969e-01, -1.35742188e-01, -1.31835938e-01,\n",
       "       -1.37695312e-01, -7.66601562e-02,  6.25000000e-02,  4.98046875e-02,\n",
       "       -1.91406250e-01, -6.03027344e-02,  2.27539062e-01,  5.88378906e-02,\n",
       "       -3.24218750e-01,  5.41992188e-02, -1.35742188e-01,  8.17871094e-03,\n",
       "       -5.24902344e-02, -1.74713135e-03, -9.81445312e-02, -2.86865234e-02,\n",
       "        3.61328125e-02,  2.15820312e-01,  5.98144531e-02, -3.08593750e-01,\n",
       "       -2.27539062e-01,  2.61718750e-01,  9.86328125e-02, -5.07812500e-02,\n",
       "        1.78222656e-02,  1.31835938e-01, -5.35156250e-01, -1.81640625e-01,\n",
       "        1.38671875e-01, -3.10546875e-01, -9.71679688e-02,  1.31835938e-01,\n",
       "       -1.16210938e-01,  7.03125000e-02,  2.85156250e-01,  3.51562500e-02,\n",
       "       -1.01562500e-01, -3.75976562e-02,  1.41601562e-01,  1.42578125e-01,\n",
       "       -5.68847656e-02,  2.65625000e-01, -2.09960938e-01,  9.64355469e-03,\n",
       "       -6.68945312e-02, -4.83398438e-02, -6.10351562e-02,  2.45117188e-01,\n",
       "       -9.66796875e-02,  1.78222656e-02, -1.27929688e-01, -4.78515625e-02,\n",
       "       -7.26318359e-03,  1.79687500e-01,  2.78320312e-02, -2.10937500e-01,\n",
       "       -1.43554688e-01, -1.27929688e-01,  1.73339844e-02, -3.60107422e-03,\n",
       "       -2.04101562e-01,  3.63159180e-03, -1.19628906e-01, -6.15234375e-02,\n",
       "        5.93261719e-02, -3.23486328e-03, -1.70898438e-01, -3.14941406e-02,\n",
       "       -8.88671875e-02, -2.89062500e-01,  3.44238281e-02, -1.87500000e-01,\n",
       "        2.94921875e-01,  1.58203125e-01, -1.19628906e-01,  7.61718750e-02,\n",
       "        6.39648438e-02, -4.68750000e-02, -6.83593750e-02,  1.21459961e-02,\n",
       "       -1.44531250e-01,  4.54101562e-02,  3.68652344e-02,  3.88671875e-01,\n",
       "        1.45507812e-01, -2.55859375e-01, -4.46777344e-02, -1.33789062e-01,\n",
       "       -1.38671875e-01,  6.59179688e-02,  1.37695312e-01,  1.14746094e-01,\n",
       "        2.03125000e-01, -4.78515625e-02,  1.80664062e-02, -8.54492188e-02,\n",
       "       -2.48046875e-01, -3.39843750e-01, -2.83203125e-02,  1.05468750e-01,\n",
       "       -2.14843750e-01, -8.74023438e-02,  7.12890625e-02,  1.87500000e-01,\n",
       "       -1.12304688e-01,  2.73437500e-01, -3.26171875e-01, -1.77734375e-01,\n",
       "       -4.24804688e-02, -2.69531250e-01,  6.64062500e-02, -6.88476562e-02,\n",
       "       -1.99218750e-01, -7.03125000e-02, -2.43164062e-01, -3.66210938e-02,\n",
       "       -7.37304688e-02, -1.77734375e-01,  9.17968750e-02, -1.25000000e-01,\n",
       "       -1.65039062e-01, -3.57421875e-01, -2.85156250e-01, -1.66992188e-01,\n",
       "        1.97265625e-01, -1.53320312e-01,  2.31933594e-02,  2.06054688e-01,\n",
       "        1.80664062e-01, -2.74658203e-02, -1.92382812e-01, -9.61914062e-02,\n",
       "       -1.06811523e-02, -4.73632812e-02,  6.54296875e-02, -1.25732422e-02,\n",
       "        1.78222656e-02, -8.00781250e-02, -2.59765625e-01,  9.37500000e-02,\n",
       "       -7.81250000e-02,  4.68750000e-02, -2.22167969e-02,  1.86767578e-02,\n",
       "        3.11279297e-02,  1.04980469e-02, -1.69921875e-01,  2.58789062e-02,\n",
       "       -3.41796875e-02, -1.44042969e-02, -5.46875000e-02, -8.78906250e-02,\n",
       "        1.96838379e-03,  2.23632812e-01, -1.36718750e-01,  1.75781250e-01,\n",
       "       -1.63085938e-01,  1.87500000e-01,  3.44238281e-02, -5.63964844e-02,\n",
       "       -2.27689743e-05,  4.27246094e-02,  5.81054688e-02, -1.07910156e-01,\n",
       "       -3.88183594e-02, -2.69531250e-01,  3.34472656e-02,  9.81445312e-02,\n",
       "        5.63964844e-02,  2.23632812e-01, -5.49316406e-02,  1.46484375e-01,\n",
       "        5.93261719e-02, -2.19726562e-01,  6.39648438e-02,  1.66015625e-02,\n",
       "        4.56542969e-02,  3.26171875e-01, -3.80859375e-01,  1.70898438e-01,\n",
       "        5.66406250e-02, -1.04492188e-01,  1.38671875e-01, -1.57226562e-01,\n",
       "        3.23486328e-03, -4.80957031e-02, -2.48046875e-01, -6.20117188e-02],\n",
       "      dtype=float32)"
      ]
     },
     "execution_count": 11,
     "metadata": {},
     "output_type": "execute_result"
    }
   ],
   "source": [
    "from gensim.models import KeyedVectors\n",
    "word2vec_path = os.getenv('HOME')+'/aiffel/sentiment_classification/data/GoogleNews-vectors-negative300.bin.gz'\n",
    "word2vec = KeyedVectors.load_word2vec_format(word2vec_path, binary=True)\n",
    "vector = word2vec['computer']\n",
    "vector     # 무려 300dim의 워드 벡터입니다."
   ]
  },
  {
   "cell_type": "markdown",
   "id": "7b2f9069",
   "metadata": {},
   "source": [
    "## Embedding Matrix"
   ]
  },
  {
   "cell_type": "code",
   "execution_count": 12,
   "id": "4b5ec0ee",
   "metadata": {},
   "outputs": [],
   "source": [
    "vocab_size = 10000    # 어휘 사전의 크기입니다(10,000개의 단어)\n",
    "word_vector_dim = 300  # 워드 벡터의 차원수 (변경가능한 하이퍼파라미터)\n",
    "\n",
    "embedding_matrix = np.random.rand(vocab_size, word_vector_dim)\n",
    "\n",
    "# embedding_matrix에 Word2Vec 워드벡터를 단어 하나씩마다 차례차례 카피한다.\n",
    "for i in range(4,vocab_size):\n",
    "    if index_to_word[i] in word2vec:\n",
    "        embedding_matrix[i] = word2vec[index_to_word[i]]"
   ]
  },
  {
   "cell_type": "code",
   "execution_count": 13,
   "id": "b6ede594",
   "metadata": {},
   "outputs": [
    {
     "name": "stdout",
     "output_type": "stream",
     "text": [
      "Model: \"sequential_1\"\n",
      "_________________________________________________________________\n",
      "Layer (type)                 Output Shape              Param #   \n",
      "=================================================================\n",
      "embedding_1 (Embedding)      (None, 41, 300)           3000000   \n",
      "_________________________________________________________________\n",
      "conv1d_2 (Conv1D)            (None, 35, 16)            33616     \n",
      "_________________________________________________________________\n",
      "max_pooling1d_1 (MaxPooling1 (None, 7, 16)             0         \n",
      "_________________________________________________________________\n",
      "conv1d_3 (Conv1D)            (None, 1, 16)             1808      \n",
      "_________________________________________________________________\n",
      "global_max_pooling1d_1 (Glob (None, 16)                0         \n",
      "_________________________________________________________________\n",
      "dense_2 (Dense)              (None, 8)                 136       \n",
      "_________________________________________________________________\n",
      "dense_3 (Dense)              (None, 1)                 9         \n",
      "=================================================================\n",
      "Total params: 3,035,569\n",
      "Trainable params: 3,035,569\n",
      "Non-trainable params: 0\n",
      "_________________________________________________________________\n"
     ]
    }
   ],
   "source": [
    "from tensorflow.keras.initializers import Constant\n",
    "\n",
    "vocab_size = 10000    # 어휘 사전의 크기입니다(10,000개의 단어)\n",
    "word_vector_dim = 300  # 워드 벡터의 차원수 (변경가능한 하이퍼파라미터)\n",
    "\n",
    "# 모델 구성\n",
    "Embed_model = keras.Sequential()\n",
    "Embed_model.add(keras.layers.Embedding(vocab_size, \n",
    "                                 word_vector_dim, \n",
    "                                 embeddings_initializer=Constant(embedding_matrix),  # 카피한 임베딩을 여기서 활용\n",
    "                                 input_length=maxlen, \n",
    "                                 trainable=True))   # trainable을 True로 주면 Fine-tuning\n",
    "Embed_model.add(keras.layers.Conv1D(16, 7, activation='relu'))\n",
    "Embed_model.add(keras.layers.MaxPooling1D(5))\n",
    "Embed_model.add(keras.layers.Conv1D(16, 7, activation='relu'))\n",
    "Embed_model.add(keras.layers.GlobalMaxPooling1D())\n",
    "Embed_model.add(keras.layers.Dense(8, activation='relu'))\n",
    "Embed_model.add(keras.layers.Dense(1, activation='sigmoid')) \n",
    "\n",
    "Embed_model.summary()"
   ]
  },
  {
   "cell_type": "markdown",
   "id": "2372e068",
   "metadata": {},
   "source": [
    "## Validation Set"
   ]
  },
  {
   "cell_type": "code",
   "execution_count": 14,
   "id": "64bdeb14",
   "metadata": {},
   "outputs": [
    {
     "name": "stdout",
     "output_type": "stream",
     "text": [
      "(146182, 41)\n",
      "(86182, 41)\n",
      "(86182,)\n",
      "(60000, 41)\n",
      "(60000,)\n"
     ]
    }
   ],
   "source": [
    "# 3:2의 비율로 train 과 valid 데이터를 나눠줍니다.\n",
    "# validation set 60000건 분리\n",
    "X_val = X_train[:60000]   \n",
    "y_val = y_train[:60000]\n",
    "\n",
    "# validation set을 제외한 나머지 86182건\n",
    "partial_X_train = X_train[60000:]  \n",
    "partial_y_train = y_train[60000:]\n",
    "\n",
    "print(X_train.shape)\n",
    "print(partial_X_train.shape)\n",
    "print(partial_y_train.shape)\n",
    "print(X_val.shape)\n",
    "print(y_val.shape)"
   ]
  },
  {
   "cell_type": "markdown",
   "id": "02b98831",
   "metadata": {},
   "source": [
    "# Model Training"
   ]
  },
  {
   "cell_type": "markdown",
   "id": "1da65c3b",
   "metadata": {},
   "source": [
    "## 1-D CNN Model"
   ]
  },
  {
   "cell_type": "code",
   "execution_count": 15,
   "id": "7238dea9",
   "metadata": {},
   "outputs": [
    {
     "name": "stdout",
     "output_type": "stream",
     "text": [
      "Epoch 1/20\n",
      "169/169 [==============================] - 4s 7ms/step - loss: 0.5475 - accuracy: 0.7132 - val_loss: 0.3727 - val_accuracy: 0.8366\n",
      "Epoch 2/20\n",
      "169/169 [==============================] - 1s 5ms/step - loss: 0.3395 - accuracy: 0.8546 - val_loss: 0.3487 - val_accuracy: 0.8478\n",
      "Epoch 3/20\n",
      "169/169 [==============================] - 1s 6ms/step - loss: 0.2987 - accuracy: 0.8754 - val_loss: 0.3471 - val_accuracy: 0.8494\n",
      "Epoch 4/20\n",
      "169/169 [==============================] - 1s 5ms/step - loss: 0.2689 - accuracy: 0.8906 - val_loss: 0.3528 - val_accuracy: 0.8493\n",
      "Epoch 5/20\n",
      "169/169 [==============================] - 1s 5ms/step - loss: 0.2387 - accuracy: 0.9056 - val_loss: 0.3643 - val_accuracy: 0.8474\n",
      "Epoch 6/20\n",
      "169/169 [==============================] - 1s 5ms/step - loss: 0.2069 - accuracy: 0.9222 - val_loss: 0.3855 - val_accuracy: 0.8452\n",
      "Epoch 7/20\n",
      "169/169 [==============================] - 1s 5ms/step - loss: 0.1744 - accuracy: 0.9371 - val_loss: 0.4196 - val_accuracy: 0.8424\n",
      "Epoch 8/20\n",
      "169/169 [==============================] - 1s 5ms/step - loss: 0.1435 - accuracy: 0.9511 - val_loss: 0.4511 - val_accuracy: 0.8373\n",
      "Epoch 9/20\n",
      "169/169 [==============================] - 1s 5ms/step - loss: 0.1173 - accuracy: 0.9615 - val_loss: 0.4995 - val_accuracy: 0.8343\n",
      "Epoch 10/20\n",
      "169/169 [==============================] - 1s 5ms/step - loss: 0.0965 - accuracy: 0.9694 - val_loss: 0.5444 - val_accuracy: 0.8317\n",
      "Epoch 11/20\n",
      "169/169 [==============================] - 1s 5ms/step - loss: 0.0795 - accuracy: 0.9758 - val_loss: 0.5943 - val_accuracy: 0.8267\n",
      "Epoch 12/20\n",
      "169/169 [==============================] - 1s 5ms/step - loss: 0.0661 - accuracy: 0.9809 - val_loss: 0.6385 - val_accuracy: 0.8270\n",
      "Epoch 13/20\n",
      "169/169 [==============================] - 1s 5ms/step - loss: 0.0556 - accuracy: 0.9846 - val_loss: 0.6891 - val_accuracy: 0.8254\n",
      "Epoch 14/20\n",
      "169/169 [==============================] - 1s 6ms/step - loss: 0.0479 - accuracy: 0.9869 - val_loss: 0.7433 - val_accuracy: 0.8239\n",
      "Epoch 15/20\n",
      "169/169 [==============================] - 1s 5ms/step - loss: 0.0422 - accuracy: 0.9887 - val_loss: 0.7856 - val_accuracy: 0.8223\n",
      "Epoch 16/20\n",
      "169/169 [==============================] - 1s 5ms/step - loss: 0.0370 - accuracy: 0.9903 - val_loss: 0.8259 - val_accuracy: 0.8200\n",
      "Epoch 17/20\n",
      "169/169 [==============================] - 1s 5ms/step - loss: 0.0332 - accuracy: 0.9912 - val_loss: 0.8852 - val_accuracy: 0.8191\n",
      "Epoch 18/20\n",
      "169/169 [==============================] - 1s 5ms/step - loss: 0.0304 - accuracy: 0.9920 - val_loss: 0.9224 - val_accuracy: 0.8189\n",
      "Epoch 19/20\n",
      "169/169 [==============================] - 1s 5ms/step - loss: 0.0277 - accuracy: 0.9929 - val_loss: 0.9649 - val_accuracy: 0.8174\n",
      "Epoch 20/20\n",
      "169/169 [==============================] - 1s 5ms/step - loss: 0.0259 - accuracy: 0.9932 - val_loss: 0.9893 - val_accuracy: 0.8169\n"
     ]
    }
   ],
   "source": [
    "Cnn_model.compile(optimizer='adam',\n",
    "              loss='binary_crossentropy',\n",
    "              metrics=['accuracy'])\n",
    "              \n",
    "epochs=20  # 몇 epoch를 훈련하면 좋을지 결과를 보면서 바꾸어 봅시다. \n",
    "\n",
    "Cnn_history = Cnn_model.fit(partial_X_train,\n",
    "                    partial_y_train,\n",
    "                    epochs=epochs,\n",
    "                    batch_size=512,\n",
    "                    validation_data=(X_val, y_val),\n",
    "                    verbose=1)"
   ]
  },
  {
   "cell_type": "code",
   "execution_count": 16,
   "id": "7c40d1b9",
   "metadata": {},
   "outputs": [
    {
     "name": "stdout",
     "output_type": "stream",
     "text": [
      "1537/1537 - 2s - loss: 1.0091 - accuracy: 0.8118\n",
      "[1.0090889930725098, 0.8118477463722229]\n"
     ]
    }
   ],
   "source": [
    "results = Cnn_model.evaluate(X_test,  y_test, verbose=2)\n",
    "\n",
    "print(results)"
   ]
  },
  {
   "cell_type": "markdown",
   "id": "5fdc2324",
   "metadata": {},
   "source": [
    "## Embed Model"
   ]
  },
  {
   "cell_type": "code",
   "execution_count": 17,
   "id": "72bc4c8b",
   "metadata": {},
   "outputs": [
    {
     "name": "stdout",
     "output_type": "stream",
     "text": [
      "Epoch 1/20\n",
      "169/169 [==============================] - 2s 11ms/step - loss: 0.6935 - accuracy: 0.5000 - val_loss: 0.6931 - val_accuracy: 0.5019\n",
      "Epoch 2/20\n",
      "169/169 [==============================] - 1s 9ms/step - loss: 0.6931 - accuracy: 0.5052 - val_loss: 0.6939 - val_accuracy: 0.4981\n",
      "Epoch 3/20\n",
      "169/169 [==============================] - 1s 9ms/step - loss: 0.6891 - accuracy: 0.5296 - val_loss: 0.6728 - val_accuracy: 0.5915\n",
      "Epoch 4/20\n",
      "169/169 [==============================] - 1s 9ms/step - loss: 0.4793 - accuracy: 0.7766 - val_loss: 0.3936 - val_accuracy: 0.8235\n",
      "Epoch 5/20\n",
      "169/169 [==============================] - 1s 9ms/step - loss: 0.3427 - accuracy: 0.8533 - val_loss: 0.3693 - val_accuracy: 0.8381\n",
      "Epoch 6/20\n",
      "169/169 [==============================] - 1s 9ms/step - loss: 0.3027 - accuracy: 0.8749 - val_loss: 0.3787 - val_accuracy: 0.8367\n",
      "Epoch 7/20\n",
      "169/169 [==============================] - 1s 9ms/step - loss: 0.2746 - accuracy: 0.8897 - val_loss: 0.3720 - val_accuracy: 0.8409\n",
      "Epoch 8/20\n",
      "169/169 [==============================] - 1s 9ms/step - loss: 0.2468 - accuracy: 0.9043 - val_loss: 0.3827 - val_accuracy: 0.8414\n",
      "Epoch 9/20\n",
      "169/169 [==============================] - 1s 9ms/step - loss: 0.2241 - accuracy: 0.9151 - val_loss: 0.3981 - val_accuracy: 0.8390\n",
      "Epoch 10/20\n",
      "169/169 [==============================] - 1s 9ms/step - loss: 0.1966 - accuracy: 0.9291 - val_loss: 0.4576 - val_accuracy: 0.8244\n",
      "Epoch 11/20\n",
      "169/169 [==============================] - 1s 9ms/step - loss: 0.1794 - accuracy: 0.9354 - val_loss: 0.4417 - val_accuracy: 0.8315\n",
      "Epoch 12/20\n",
      "169/169 [==============================] - 1s 9ms/step - loss: 0.1602 - accuracy: 0.9441 - val_loss: 0.4863 - val_accuracy: 0.8263\n",
      "Epoch 13/20\n",
      "169/169 [==============================] - 1s 9ms/step - loss: 0.1459 - accuracy: 0.9503 - val_loss: 0.5188 - val_accuracy: 0.8219\n",
      "Epoch 14/20\n",
      "169/169 [==============================] - 2s 9ms/step - loss: 0.1298 - accuracy: 0.9567 - val_loss: 0.5819 - val_accuracy: 0.8124\n",
      "Epoch 15/20\n",
      "169/169 [==============================] - 1s 9ms/step - loss: 0.1140 - accuracy: 0.9636 - val_loss: 0.5604 - val_accuracy: 0.8229\n",
      "Epoch 16/20\n",
      "169/169 [==============================] - 1s 9ms/step - loss: 0.0996 - accuracy: 0.9696 - val_loss: 0.5950 - val_accuracy: 0.8204\n",
      "Epoch 17/20\n",
      "169/169 [==============================] - 1s 9ms/step - loss: 0.0959 - accuracy: 0.9694 - val_loss: 0.6370 - val_accuracy: 0.8168\n",
      "Epoch 18/20\n",
      "169/169 [==============================] - 1s 9ms/step - loss: 0.0819 - accuracy: 0.9759 - val_loss: 0.6555 - val_accuracy: 0.8137\n",
      "Epoch 19/20\n",
      "169/169 [==============================] - 1s 9ms/step - loss: 0.0854 - accuracy: 0.9734 - val_loss: 0.8015 - val_accuracy: 0.7910\n",
      "Epoch 20/20\n",
      "169/169 [==============================] - 1s 9ms/step - loss: 0.0780 - accuracy: 0.9761 - val_loss: 0.6883 - val_accuracy: 0.8125\n"
     ]
    }
   ],
   "source": [
    "Embed_model.compile(optimizer='adam',\n",
    "              loss='binary_crossentropy',\n",
    "              metrics=['accuracy'])\n",
    "              \n",
    "epochs=20  # 몇 epoch를 훈련하면 좋을지 결과를 보면서 바꾸어 봅시다. \n",
    "\n",
    "Embed_history = Embed_model.fit(partial_X_train,\n",
    "                    partial_y_train,\n",
    "                    epochs=epochs,\n",
    "                    batch_size=512,\n",
    "                    validation_data=(X_val, y_val),\n",
    "                    verbose=1)"
   ]
  },
  {
   "cell_type": "code",
   "execution_count": 18,
   "id": "04b1c98c",
   "metadata": {},
   "outputs": [
    {
     "name": "stdout",
     "output_type": "stream",
     "text": [
      "1537/1537 - 3s - loss: 0.7028 - accuracy: 0.8097\n",
      "[0.7028336524963379, 0.8096913695335388]\n"
     ]
    }
   ],
   "source": [
    "results = Embed_model.evaluate(X_test,  y_test, verbose=2)\n",
    "\n",
    "print(results)"
   ]
  },
  {
   "cell_type": "markdown",
   "id": "e7cc86e6",
   "metadata": {},
   "source": [
    "# Loss Accuracy Visualization"
   ]
  },
  {
   "cell_type": "markdown",
   "id": "8849ef14",
   "metadata": {},
   "source": [
    "## 1-D CNN Model"
   ]
  },
  {
   "cell_type": "code",
   "execution_count": 19,
   "id": "3744bd51",
   "metadata": {},
   "outputs": [
    {
     "name": "stdout",
     "output_type": "stream",
     "text": [
      "dict_keys(['loss', 'accuracy', 'val_loss', 'val_accuracy'])\n"
     ]
    }
   ],
   "source": [
    "Cnn_history_dict = Cnn_history.history\n",
    "print(Cnn_history_dict.keys())"
   ]
  },
  {
   "cell_type": "code",
   "execution_count": 20,
   "id": "9bda75d3",
   "metadata": {},
   "outputs": [
    {
     "data": {
      "image/png": "[encoded data removed]",
      "text/plain": [
       "<Figure size 432x288 with 1 Axes>"
      ]
     },
     "metadata": {
      "needs_background": "light"
     },
     "output_type": "display_data"
    }
   ],
   "source": [
    "import matplotlib.pyplot as plt\n",
    "\n",
    "acc = Cnn_history_dict['accuracy']\n",
    "val_acc = Cnn_history_dict['val_accuracy']\n",
    "loss = Cnn_history_dict['loss']\n",
    "val_loss = Cnn_history_dict['val_loss']\n",
    "\n",
    "epochs = range(1, len(acc) + 1)\n",
    "\n",
    "# \"bo\"는 \"파란색 점\"입니다\n",
    "plt.plot(epochs, loss, 'bo', label='Training loss')\n",
    "# b는 \"파란 실선\"입니다\n",
    "plt.plot(epochs, val_loss, 'b', label='Validation loss')\n",
    "plt.title('Training and validation loss')\n",
    "plt.xlabel('Epochs')\n",
    "plt.ylabel('Loss')\n",
    "plt.legend()\n",
    "\n",
    "plt.show()"
   ]
  },
  {
   "cell_type": "code",
   "execution_count": 21,
   "id": "63a2d464",
   "metadata": {},
   "outputs": [
    {
     "data": {
      "image/png": "[encoded data removed]",
      "text/plain": [
       "<Figure size 432x288 with 1 Axes>"
      ]
     },
     "metadata": {
      "needs_background": "light"
     },
     "output_type": "display_data"
    }
   ],
   "source": [
    "plt.clf()   # 그림을 초기화합니다\n",
    "\n",
    "plt.plot(epochs, acc, 'bo', label='Training acc')\n",
    "plt.plot(epochs, val_acc, 'b', label='Validation acc')\n",
    "plt.title('Training and validation accuracy')\n",
    "plt.xlabel('Epochs')\n",
    "plt.ylabel('Accuracy')\n",
    "plt.legend()\n",
    "\n",
    "plt.show()"
   ]
  },
  {
   "cell_type": "markdown",
   "id": "d74d7f6f",
   "metadata": {},
   "source": [
    "## Embed Model"
   ]
  },
  {
   "cell_type": "code",
   "execution_count": 22,
   "id": "0d477fc0",
   "metadata": {},
   "outputs": [
    {
     "name": "stdout",
     "output_type": "stream",
     "text": [
      "dict_keys(['loss', 'accuracy', 'val_loss', 'val_accuracy'])\n"
     ]
    }
   ],
   "source": [
    "Embed_history_dict = Embed_history.history\n",
    "print(Embed_history_dict.keys())"
   ]
  },
  {
   "cell_type": "code",
   "execution_count": 23,
   "id": "a83c5012",
   "metadata": {},
   "outputs": [
    {
     "data": {
      "image/png": "[encoded data removed]",
      "text/plain": [
       "<Figure size 432x288 with 1 Axes>"
      ]
     },
     "metadata": {
      "needs_background": "light"
     },
     "output_type": "display_data"
    }
   ],
   "source": [
    "acc = Embed_history_dict['accuracy']\n",
    "val_acc = Embed_history_dict['val_accuracy']\n",
    "loss = Embed_history_dict['loss']\n",
    "val_loss = Embed_history_dict['val_loss']\n",
    "\n",
    "epochs = range(1, len(acc) + 1)\n",
    "\n",
    "# \"bo\"는 \"파란색 점\"입니다\n",
    "plt.plot(epochs, loss, 'bo', label='Training loss')\n",
    "# b는 \"파란 실선\"입니다\n",
    "plt.plot(epochs, val_loss, 'b', label='Validation loss')\n",
    "plt.title('Training and validation loss')\n",
    "plt.xlabel('Epochs')\n",
    "plt.ylabel('Loss')\n",
    "plt.legend()\n",
    "\n",
    "plt.show()"
   ]
  },
  {
   "cell_type": "code",
   "execution_count": 24,
   "id": "a81a8b3f",
   "metadata": {},
   "outputs": [
    {
     "data": {
      "image/png": "[encoded data removed]",
      "text/plain": [
       "<Figure size 432x288 with 1 Axes>"
      ]
     },
     "metadata": {
      "needs_background": "light"
     },
     "output_type": "display_data"
    }
   ],
   "source": [
    "plt.clf()   # 그림을 초기화합니다\n",
    "\n",
    "plt.plot(epochs, acc, 'bo', label='Training acc')\n",
    "plt.plot(epochs, val_acc, 'b', label='Validation acc')\n",
    "plt.title('Training and validation accuracy')\n",
    "plt.xlabel('Epochs')\n",
    "plt.ylabel('Accuracy')\n",
    "plt.legend()\n",
    "\n",
    "plt.show()"
   ]
  },
  {
   "cell_type": "markdown",
   "id": "fc51e834",
   "metadata": {},
   "source": [
    "# 한국어 Word2Vec 임베딩 활용하여 성능개선"
   ]
  },
  {
   "cell_type": "code",
   "execution_count": 25,
   "id": "76718d8f",
   "metadata": {},
   "outputs": [],
   "source": [
    "import gensim \n",
    "from gensim.models import KeyedVectors\n",
    "import warnings\n",
    "warnings.filterwarnings(action='ignore')"
   ]
  },
  {
   "cell_type": "code",
   "execution_count": 26,
   "id": "dfa03f53",
   "metadata": {},
   "outputs": [
    {
     "name": "stdout",
     "output_type": "stream",
     "text": [
      "Requirement already satisfied: gensim==3.8.3 in /opt/conda/lib/python3.9/site-packages (3.8.3)\n",
      "Requirement already satisfied: six>=1.5.0 in /opt/conda/lib/python3.9/site-packages (from gensim==3.8.3) (1.16.0)\n",
      "Requirement already satisfied: numpy>=1.11.3 in /opt/conda/lib/python3.9/site-packages (from gensim==3.8.3) (1.21.4)\n",
      "Requirement already satisfied: scipy>=0.18.1 in /opt/conda/lib/python3.9/site-packages (from gensim==3.8.3) (1.7.1)\n",
      "Requirement already satisfied: smart-open>=1.8.1 in /opt/conda/lib/python3.9/site-packages (from gensim==3.8.3) (5.2.1)\n",
      "\u001b[33mWARNING: Running pip as the 'root' user can result in broken permissions and conflicting behaviour with the system package manager. It is recommended to use a virtual environment instead: https://pip.pypa.io/warnings/venv\u001b[0m\n",
      "Note: you may need to restart the kernel to use updated packages.\n"
     ]
    }
   ],
   "source": [
    "pip install --upgrade gensim==3.8.3"
   ]
  },
  {
   "cell_type": "code",
   "execution_count": 27,
   "id": "9f4c7781",
   "metadata": {
    "scrolled": false
   },
   "outputs": [
    {
     "data": {
      "text/plain": [
       "array([-1.319586  , -1.6629723 ,  0.1505883 ,  0.5035253 , -2.6690226 ,\n",
       "       -1.0570946 ,  0.67788476,  2.796687  ,  1.4200262 , -0.39614034,\n",
       "        1.9018966 ,  2.9973626 , -0.01318461,  0.35922977,  1.4223385 ,\n",
       "        0.40999603, -0.42552626,  0.31498262,  0.87282205, -1.3778601 ,\n",
       "       -0.1918586 ,  0.9000629 , -1.8640414 ,  0.8167136 , -1.7011755 ,\n",
       "       -0.98501635,  0.66861403, -0.9031406 ,  0.3020793 ,  2.0629468 ,\n",
       "       -0.31631446, -0.7964669 ,  0.11580559, -0.9859846 ,  0.7692624 ,\n",
       "       -0.19869252,  0.56788325,  2.29683   ,  1.1519096 ,  1.5394832 ,\n",
       "       -1.0729129 ,  0.1502994 ,  1.2680385 , -2.249592  , -0.8000674 ,\n",
       "       -0.20292565, -0.40892753, -0.5215352 , -0.507804  , -1.3664671 ,\n",
       "        0.42219886, -0.31854075,  0.2340286 , -0.77383935, -1.5936835 ,\n",
       "        0.01904743,  1.177212  ,  1.6091572 , -0.5099399 ,  1.9581834 ,\n",
       "       -0.34881008,  0.37763453, -0.01511123, -0.58241713,  0.40495008,\n",
       "        0.8804171 ,  0.1846361 ,  1.0777823 , -0.7750021 , -1.0071819 ,\n",
       "        1.0358934 ,  0.39481607, -2.332866  , -0.93091285,  1.118224  ,\n",
       "       -0.7844368 ,  0.8555328 ,  0.5143765 ,  0.920763  , -0.39341557,\n",
       "       -0.16348092, -1.3929285 ,  0.15316974, -1.348279  , -1.1284426 ,\n",
       "       -1.8810023 ,  0.14855379, -0.6104502 , -1.2425994 ,  1.2390256 ,\n",
       "       -1.1444252 , -1.400823  , -1.3473312 ,  1.2239008 , -1.0127048 ,\n",
       "        1.1208295 ,  0.29893637,  0.7203714 ,  0.6036004 ,  0.42004064,\n",
       "        0.34347087, -0.7356937 , -0.3151368 ,  1.0694431 , -0.9154028 ,\n",
       "        1.7764895 ,  1.8720185 , -0.8843339 ,  1.3389271 , -0.80010563,\n",
       "       -0.94757986,  1.7570064 ,  1.2688855 ,  0.8684031 ,  1.4398359 ,\n",
       "       -0.17921753, -1.1272905 , -1.1046246 , -1.2999364 ,  0.07265015,\n",
       "        0.12994944, -0.11574648,  0.5862671 , -0.69233114, -0.12440029,\n",
       "        0.25522864,  0.29826164,  0.16584915,  1.6654814 , -0.8506304 ,\n",
       "        0.57840025,  0.6405582 ,  0.7529146 ,  1.7172095 ,  2.0997689 ,\n",
       "       -0.25057933,  0.2007252 , -2.4406729 , -1.0545708 , -1.2289436 ,\n",
       "       -0.22581457,  0.47242698,  1.3570354 ,  0.2401035 , -0.66484225,\n",
       "       -1.3534913 , -0.9827498 ,  1.3056269 , -0.14077377, -1.65661   ,\n",
       "       -0.5009824 ,  1.2256474 , -0.25854915,  0.78430426,  1.815638  ,\n",
       "       -0.558131  , -0.16077444,  1.3344697 ,  1.1771872 , -1.7810681 ,\n",
       "       -0.16537452,  0.19939929, -1.0561806 , -1.4022348 ,  0.35612556,\n",
       "       -1.0305912 , -0.1956434 , -0.9686804 ,  0.75609595, -0.1935044 ,\n",
       "       -0.22683689, -3.502733  ,  0.8300569 , -0.07755399, -0.11534574,\n",
       "       -1.2377417 ,  0.6012245 , -0.6889415 ,  0.37302938,  1.5514311 ,\n",
       "       -0.9978473 ,  0.197273  , -0.13099611, -1.0549966 , -1.7730215 ,\n",
       "        1.2698088 , -0.37557662, -0.02147526, -0.11407109,  0.2750356 ,\n",
       "       -0.36513284,  0.77137434,  1.5496976 , -1.2772565 , -0.08079113,\n",
       "        0.7655263 , -1.1677268 , -2.208896  ,  0.9165536 , -0.96396863],\n",
       "      dtype=float32)"
      ]
     },
     "execution_count": 27,
     "metadata": {},
     "output_type": "execute_result"
    }
   ],
   "source": [
    "word2vec_path = os.getenv('HOME')+'/aiffel/sentiment_classification/data/ko.bin'\n",
    "word2vec = gensim.models.Word2Vec.load(word2vec_path)\n",
    "vector = word2vec['집']\n",
    "vector     "
   ]
  },
  {
   "cell_type": "code",
   "execution_count": 28,
   "id": "ee4ee8c5",
   "metadata": {},
   "outputs": [
    {
     "data": {
      "text/plain": [
       "[('사랑', 0.6759077310562134),\n",
       " ('기쁨', 0.6493781805038452),\n",
       " ('즐거움', 0.6396492719650269),\n",
       " ('삶', 0.6299898028373718),\n",
       " ('젊음', 0.6187379360198975),\n",
       " ('즐겁', 0.6027448177337646),\n",
       " ('인생', 0.6002243161201477),\n",
       " ('존엄', 0.5952589511871338),\n",
       " ('고독', 0.5938762426376343),\n",
       " ('불행', 0.5894461870193481)]"
      ]
     },
     "execution_count": 28,
     "metadata": {},
     "output_type": "execute_result"
    }
   ],
   "source": [
    "word2vec.similar_by_word(\"행복\")"
   ]
  },
  {
   "cell_type": "code",
   "execution_count": 29,
   "id": "d570a1b3",
   "metadata": {},
   "outputs": [],
   "source": [
    "vocab_size = 10000    # 어휘 사전의 크기입니다(10,000개의 단어)\n",
    "word_vector_dim = 200  # 워드 벡터의 차원수 (변경가능한 하이퍼파라미터)\n",
    "\n",
    "embedding_matrix = np.random.rand(vocab_size, word_vector_dim)\n",
    "\n",
    "# embedding_matrix에 Word2Vec 워드벡터를 단어 하나씩마다 차례차례 카피한다.\n",
    "for i in range(4,vocab_size):\n",
    "    if index_to_word[i] in word2vec:\n",
    "        embedding_matrix[i] = word2vec[index_to_word[i]]"
   ]
  },
  {
   "cell_type": "markdown",
   "id": "b89e2592",
   "metadata": {},
   "source": [
    "## Model"
   ]
  },
  {
   "cell_type": "code",
   "execution_count": 30,
   "id": "c03a1f58",
   "metadata": {},
   "outputs": [
    {
     "name": "stdout",
     "output_type": "stream",
     "text": [
      "WARNING:tensorflow:Layer lstm will not use cuDNN kernels since it doesn't meet the criteria. It will use a generic GPU kernel as fallback when running on GPU.\n",
      "WARNING:tensorflow:Layer lstm_1 will not use cuDNN kernels since it doesn't meet the criteria. It will use a generic GPU kernel as fallback when running on GPU.\n",
      "Model: \"sequential_2\"\n",
      "_________________________________________________________________\n",
      "Layer (type)                 Output Shape              Param #   \n",
      "=================================================================\n",
      "embedding_2 (Embedding)      (None, 41, 200)           2000000   \n",
      "_________________________________________________________________\n",
      "spatial_dropout1d (SpatialDr (None, 41, 200)           0         \n",
      "_________________________________________________________________\n",
      "lstm (LSTM)                  (None, 41, 196)           311248    \n",
      "_________________________________________________________________\n",
      "lstm_1 (LSTM)                (None, 41, 196)           308112    \n",
      "_________________________________________________________________\n",
      "max_pooling1d_2 (MaxPooling1 (None, 20, 196)           0         \n",
      "_________________________________________________________________\n",
      "global_max_pooling1d_2 (Glob (None, 196)               0         \n",
      "_________________________________________________________________\n",
      "dense_4 (Dense)              (None, 784)               154448    \n",
      "_________________________________________________________________\n",
      "dense_5 (Dense)              (None, 784)               615440    \n",
      "_________________________________________________________________\n",
      "dense_6 (Dense)              (None, 1)                 785       \n",
      "=================================================================\n",
      "Total params: 3,390,033\n",
      "Trainable params: 3,390,033\n",
      "Non-trainable params: 0\n",
      "_________________________________________________________________\n"
     ]
    }
   ],
   "source": [
    "from tensorflow.keras.initializers import Constant\n",
    "\n",
    "vocab_size = 10000    # 어휘 사전의 크기입니다(10,000개의 단어)\n",
    "word_vector_dim = 200  # 워드 벡터의 차원수 (변경가능한 하이퍼파라미터)\n",
    "LSTM_UNITS = 196\n",
    "DENSE_HIDDEN_UNITS = 4 * LSTM_UNITS\n",
    "\n",
    "# 모델 구성\n",
    "kor_model = keras.Sequential()\n",
    "kor_model.add(keras.layers.Embedding(vocab_size, \n",
    "                                 word_vector_dim, \n",
    "                                 embeddings_initializer=Constant(embedding_matrix),  # 카피한 임베딩을 여기서 활용\n",
    "                                 input_length=maxlen, \n",
    "                                 trainable=True))   # trainable을 True로 주면 Fine-tuning\n",
    "kor_model.add(keras.layers.SpatialDropout1D(0.4))\n",
    "# kor_model.add(keras.layers.Conv1D(16, 7, activation='relu'))\n",
    "# kor_model.add(keras.layers.MaxPooling1D(5))\n",
    "# kor_model.add(keras.layers.Dropout(0.2))\n",
    "# kor_model.add(keras.layers.Conv1D(16, 7, activation='relu'))\n",
    "# kor_model.add(keras.layers.GlobalMaxPooling1D())\n",
    "# kor_model.add(keras.layers.Dropout(0.2))\n",
    "kor_model.add(keras.layers.LSTM(LSTM_UNITS, return_sequences=True, dropout=0.2, recurrent_dropout=0.2))  \n",
    "kor_model.add(keras.layers.LSTM(LSTM_UNITS, return_sequences=True, dropout=0.2, recurrent_dropout=0.2))  \n",
    "kor_model.add(keras.layers.MaxPooling1D())\n",
    "kor_model.add(keras.layers.GlobalMaxPooling1D())\n",
    "kor_model.add(keras.layers.Dense(DENSE_HIDDEN_UNITS, activation='relu'))\n",
    "kor_model.add(keras.layers.Dense(DENSE_HIDDEN_UNITS, activation='relu'))\n",
    "\n",
    "kor_model.add(keras.layers.Dense(1, activation='sigmoid')) \n",
    "\n",
    "kor_model.summary()"
   ]
  },
  {
   "cell_type": "markdown",
   "id": "a5ee96f8",
   "metadata": {},
   "source": [
    "## Training"
   ]
  },
  {
   "cell_type": "code",
   "execution_count": 31,
   "id": "07f306b9",
   "metadata": {},
   "outputs": [
    {
     "name": "stdout",
     "output_type": "stream",
     "text": [
      "Epoch 1/10\n",
      "337/337 [==============================] - 119s 342ms/step - loss: 0.5423 - accuracy: 0.7153 - val_loss: 0.4337 - val_accuracy: 0.7983\n",
      "Epoch 2/10\n",
      "337/337 [==============================] - 114s 338ms/step - loss: 0.4187 - accuracy: 0.8041 - val_loss: 0.3658 - val_accuracy: 0.8334\n",
      "Epoch 3/10\n",
      "337/337 [==============================] - 114s 338ms/step - loss: 0.3741 - accuracy: 0.8303 - val_loss: 0.3463 - val_accuracy: 0.8458\n",
      "Epoch 4/10\n",
      "337/337 [==============================] - 114s 338ms/step - loss: 0.3443 - accuracy: 0.8457 - val_loss: 0.3433 - val_accuracy: 0.8482\n",
      "Epoch 5/10\n",
      "337/337 [==============================] - 114s 339ms/step - loss: 0.3258 - accuracy: 0.8563 - val_loss: 0.3292 - val_accuracy: 0.8566\n",
      "Epoch 6/10\n",
      "337/337 [==============================] - 114s 339ms/step - loss: 0.3113 - accuracy: 0.8635 - val_loss: 0.3328 - val_accuracy: 0.8590\n",
      "Epoch 7/10\n",
      "337/337 [==============================] - 115s 340ms/step - loss: 0.2999 - accuracy: 0.8701 - val_loss: 0.3327 - val_accuracy: 0.8560\n",
      "Epoch 8/10\n",
      "337/337 [==============================] - 114s 339ms/step - loss: 0.2864 - accuracy: 0.8761 - val_loss: 0.3237 - val_accuracy: 0.8597\n",
      "Epoch 9/10\n",
      "337/337 [==============================] - 114s 339ms/step - loss: 0.2777 - accuracy: 0.8804 - val_loss: 0.3382 - val_accuracy: 0.8608\n",
      "Epoch 10/10\n",
      "337/337 [==============================] - 114s 337ms/step - loss: 0.2709 - accuracy: 0.8842 - val_loss: 0.3390 - val_accuracy: 0.8609\n"
     ]
    }
   ],
   "source": [
    "callbacks = keras.callbacks.EarlyStopping(monitor='val_loss', patience=10)\n",
    "\n",
    "kor_model.compile(optimizer='adam',\n",
    "              loss='binary_crossentropy',\n",
    "              metrics=['accuracy'])\n",
    "              \n",
    "epochs=10  # 몇 epoch를 훈련하면 좋을지 결과를 보면서 바꾸어 봅시다. \n",
    "\n",
    "kor_history = kor_model.fit(partial_X_train,\n",
    "                    partial_y_train,\n",
    "                    epochs=epochs,\n",
    "                    batch_size=256,\n",
    "                    callbacks=callbacks,\n",
    "                    validation_data=(X_val, y_val),\n",
    "                    verbose=1)"
   ]
  },
  {
   "cell_type": "markdown",
   "id": "f6c11ef8",
   "metadata": {},
   "source": [
    "## Loss Accuracy Graph"
   ]
  },
  {
   "cell_type": "code",
   "execution_count": 32,
   "id": "3b1db36b",
   "metadata": {},
   "outputs": [
    {
     "name": "stdout",
     "output_type": "stream",
     "text": [
      "dict_keys(['loss', 'accuracy', 'val_loss', 'val_accuracy'])\n"
     ]
    }
   ],
   "source": [
    "kor_history_dict = kor_history.history\n",
    "print(kor_history_dict.keys())"
   ]
  },
  {
   "cell_type": "code",
   "execution_count": 33,
   "id": "990bf1b4",
   "metadata": {},
   "outputs": [
    {
     "data": {
      "image/png": "[encoded data removed]",
      "text/plain": [
       "<Figure size 432x288 with 1 Axes>"
      ]
     },
     "metadata": {
      "needs_background": "light"
     },
     "output_type": "display_data"
    }
   ],
   "source": [
    "acc = kor_history_dict['accuracy']\n",
    "val_acc = kor_history_dict['val_accuracy']\n",
    "loss = kor_history_dict['loss']\n",
    "val_loss = kor_history_dict['val_loss']\n",
    "\n",
    "epochs = range(1, len(acc) + 1)\n",
    "\n",
    "# \"bo\"는 \"파란색 점\"입니다\n",
    "plt.plot(epochs, loss, 'bo', label='Training loss')\n",
    "# b는 \"파란 실선\"입니다\n",
    "plt.plot(epochs, val_loss, 'b', label='Validation loss')\n",
    "plt.title('Training and validation loss')\n",
    "plt.xlabel('Epochs')\n",
    "plt.ylabel('Loss')\n",
    "plt.legend()\n",
    "\n",
    "plt.show()"
   ]
  },
  {
   "cell_type": "code",
   "execution_count": 34,
   "id": "d3753aaa",
   "metadata": {},
   "outputs": [
    {
     "data": {
      "image/png": "[encoded data removed]",
      "text/plain": [
       "<Figure size 432x288 with 1 Axes>"
      ]
     },
     "metadata": {
      "needs_background": "light"
     },
     "output_type": "display_data"
    }
   ],
   "source": [
    "plt.clf()   # 그림을 초기화합니다\n",
    "\n",
    "plt.plot(epochs, acc, 'bo', label='Training acc')\n",
    "plt.plot(epochs, val_acc, 'b', label='Validation acc')\n",
    "plt.title('Training and validation accuracy')\n",
    "plt.xlabel('Epochs')\n",
    "plt.ylabel('Accuracy')\n",
    "plt.legend()\n",
    "\n",
    "plt.show()"
   ]
  },
  {
   "cell_type": "code",
   "execution_count": null,
   "id": "c3765e8f",
   "metadata": {},
   "outputs": [],
   "source": []
  }
 ],
 "metadata": {
  "kernelspec": {
   "display_name": "Python 3 (ipykernel)",
   "language": "python",
   "name": "python3"
  },
  "language_info": {
   "codemirror_mode": {
    "name": "ipython",
    "version": 3
   },
   "file_extension": ".py",
   "mimetype": "text/x-python",
   "name": "python",
   "nbconvert_exporter": "python",
   "pygments_lexer": "ipython3",
   "version": "3.9.7"
  }
 },
 "nbformat": 4,
 "nbformat_minor": 5
}
